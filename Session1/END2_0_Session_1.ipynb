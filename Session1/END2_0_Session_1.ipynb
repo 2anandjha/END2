{
  "nbformat": 4,
  "nbformat_minor": 0,
  "metadata": {
    "colab": {
      "name": "END2.0 Session 1.ipynb",
      "provenance": []
    },
    "kernelspec": {
      "name": "python3",
      "display_name": "Python 3"
    },
    "language_info": {
      "name": "python"
    }
  },
  "cells": [
    {
      "cell_type": "code",
      "metadata": {
        "colab": {
          "base_uri": "https://localhost:8080/"
        },
        "id": "GC_6PeobwwkH",
        "outputId": "8d41f75b-8789-45f9-af5b-f6474d1850ef"
      },
      "source": [
        "import torch\n",
        "from torch.autograd import Variable\n",
        "import torch.nn as nn\n",
        "import torch.nn.functional as F\n",
        "import torch.optim as optim\n",
        "import numpy as np\n",
        "import matplotlib.pyplot as plt\n",
        "%matplotlib inline\n",
        "torch.manual_seed(2)"
      ],
      "execution_count": 481,
      "outputs": [
        {
          "output_type": "execute_result",
          "data": {
            "text/plain": [
              "<torch._C.Generator at 0x7f414e1ca8d0>"
            ]
          },
          "metadata": {
            "tags": []
          },
          "execution_count": 481
        }
      ]
    },
    {
      "cell_type": "code",
      "metadata": {
        "id": "bL64bMTkw2GP"
      },
      "source": [
        "X = torch.Tensor([[0,0], [0,1], [1,0], [1,1]])\n",
        "Y = torch.Tensor([0, 1, 1, 0]).view(-1,1)"
      ],
      "execution_count": 482,
      "outputs": []
    },
    {
      "cell_type": "code",
      "metadata": {
        "id": "aC82kEAIw3Wf"
      },
      "source": [
        "class XOR(nn.Module):\n",
        "    def __init__(self, input_dim = 2, output_dim=1):\n",
        "        super(XOR, self).__init__()\n",
        "        self.lin1 = nn.Linear(input_dim, 3,bias=\"False\")\n",
        "        self.lin2 = nn.Linear(3, 4,bias='False')\n",
        "        self.lin3 = nn.Linear(4,2,bias='False')\n",
        "        self.lin4 = nn.Linear(2, 1,bias='False')\n",
        "        self.lin5 = nn.Linear(1, 3,bias='False')\n",
        "    \n",
        "    def forward(self, x):\n",
        "        x = self.lin1(x)\n",
        "        x = F.tanh(x)\n",
        "        x = self.lin2(x)\n",
        "        x = F.tanh(x)\n",
        "        x = self.lin3(x)\n",
        "        x = F.tanh(x)\n",
        "        x = self.lin4(x)\n",
        "        x = F.tanh(x)\n",
        "        x = self.lin5(x)\n",
        "        #x = F.tanh(x)\n",
        "        return x"
      ],
      "execution_count": 483,
      "outputs": []
    },
    {
      "cell_type": "code",
      "metadata": {
        "colab": {
          "base_uri": "https://localhost:8080/"
        },
        "id": "8gQIQExYw65K",
        "outputId": "ae4c5841-a1fa-4cfc-f08f-a06489d5bde8"
      },
      "source": [
        "model = XOR()\n",
        "print(model)\n",
        "from torchsummary import summary\n",
        "summary(model, (2,2))"
      ],
      "execution_count": 484,
      "outputs": [
        {
          "output_type": "stream",
          "text": [
            "XOR(\n",
            "  (lin1): Linear(in_features=2, out_features=3, bias=True)\n",
            "  (lin2): Linear(in_features=3, out_features=4, bias=True)\n",
            "  (lin3): Linear(in_features=4, out_features=2, bias=True)\n",
            "  (lin4): Linear(in_features=2, out_features=1, bias=True)\n",
            "  (lin5): Linear(in_features=1, out_features=3, bias=True)\n",
            ")\n",
            "----------------------------------------------------------------\n",
            "        Layer (type)               Output Shape         Param #\n",
            "================================================================\n",
            "            Linear-1                 [-1, 2, 3]               9\n",
            "            Linear-2                 [-1, 2, 4]              16\n",
            "            Linear-3                 [-1, 2, 2]              10\n",
            "            Linear-4                 [-1, 2, 1]               3\n",
            "            Linear-5                 [-1, 2, 3]               6\n",
            "================================================================\n",
            "Total params: 44\n",
            "Trainable params: 44\n",
            "Non-trainable params: 0\n",
            "----------------------------------------------------------------\n",
            "Input size (MB): 0.00\n",
            "Forward/backward pass size (MB): 0.00\n",
            "Params size (MB): 0.00\n",
            "Estimated Total Size (MB): 0.00\n",
            "----------------------------------------------------------------\n"
          ],
          "name": "stdout"
        },
        {
          "output_type": "stream",
          "text": [
            "/usr/local/lib/python3.7/dist-packages/torch/nn/functional.py:1698: UserWarning: nn.functional.tanh is deprecated. Use torch.tanh instead.\n",
            "  warnings.warn(\"nn.functional.tanh is deprecated. Use torch.tanh instead.\")\n"
          ],
          "name": "stderr"
        }
      ]
    },
    {
      "cell_type": "code",
      "metadata": {
        "id": "yeotEq19x6XF"
      },
      "source": [
        "def weights_init(model):\n",
        "    for m in model.modules():\n",
        "        if isinstance(m, nn.Linear):\n",
        "            # initialize the weight tensor, here we use a normal distribution\n",
        "            m.weight.data.normal_(0, 1)\n",
        "\n",
        "weights_init(model)"
      ],
      "execution_count": 485,
      "outputs": []
    },
    {
      "cell_type": "code",
      "metadata": {
        "id": "WrD_sNzLx78e"
      },
      "source": [
        "loss_func = nn.L1Loss()"
      ],
      "execution_count": 486,
      "outputs": []
    },
    {
      "cell_type": "code",
      "metadata": {
        "id": "-zvbrMd2x_lA"
      },
      "source": [
        "optimizer = optim.SGD(model.parameters(), lr=0.02, momentum=0.9)\n"
      ],
      "execution_count": 487,
      "outputs": []
    },
    {
      "cell_type": "code",
      "metadata": {
        "colab": {
          "base_uri": "https://localhost:8080/"
        },
        "id": "q7tWa3D7yA5X",
        "outputId": "6fe9aff8-01fa-4db0-91b2-b680d4463be7"
      },
      "source": [
        "epochs = 2001\n",
        "steps = X.size(0)\n",
        "for i in range(epochs):\n",
        "    for j in range(steps):\n",
        "        data_point = np.random.randint(X.size(0))\n",
        "        x_var = Variable(X[data_point], requires_grad=False)\n",
        "        y_var = Variable(Y[data_point], requires_grad=False)\n",
        "        \n",
        "        optimizer.zero_grad()\n",
        "        y_hat = model(x_var)\n",
        "        loss = loss_func.forward(y_hat, y_var)\n",
        "        loss.backward()\n",
        "        optimizer.step()\n",
        "        \n",
        "    if i % 50 == 0:\n",
        "        print( \"Epoch: {0}, Loss: {1}, \".format(i, loss.data.numpy()))"
      ],
      "execution_count": 488,
      "outputs": [
        {
          "output_type": "stream",
          "text": [
            "Epoch: 0, Loss: 0.6496372818946838, \n"
          ],
          "name": "stdout"
        },
        {
          "output_type": "stream",
          "text": [
            "/usr/local/lib/python3.7/dist-packages/torch/nn/functional.py:1698: UserWarning: nn.functional.tanh is deprecated. Use torch.tanh instead.\n",
            "  warnings.warn(\"nn.functional.tanh is deprecated. Use torch.tanh instead.\")\n",
            "/usr/local/lib/python3.7/dist-packages/torch/nn/modules/loss.py:96: UserWarning: Using a target size (torch.Size([1])) that is different to the input size (torch.Size([3])). This will likely lead to incorrect results due to broadcasting. Please ensure they have the same size.\n",
            "  return F.l1_loss(input, target, reduction=self.reduction)\n"
          ],
          "name": "stderr"
        },
        {
          "output_type": "stream",
          "text": [
            "Epoch: 50, Loss: 0.8627920150756836, \n",
            "Epoch: 100, Loss: 0.7928507924079895, \n",
            "Epoch: 150, Loss: 0.19078445434570312, \n",
            "Epoch: 200, Loss: 0.921299934387207, \n",
            "Epoch: 250, Loss: 1.0121384859085083, \n",
            "Epoch: 300, Loss: 1.0080972909927368, \n",
            "Epoch: 350, Loss: 0.16718995571136475, \n",
            "Epoch: 400, Loss: 0.07771708816289902, \n",
            "Epoch: 450, Loss: 1.021295428276062, \n",
            "Epoch: 500, Loss: 0.0709700807929039, \n",
            "Epoch: 550, Loss: 0.0389087088406086, \n",
            "Epoch: 600, Loss: 0.9635756015777588, \n",
            "Epoch: 650, Loss: 0.19871638715267181, \n",
            "Epoch: 700, Loss: 0.032001059502363205, \n",
            "Epoch: 750, Loss: 0.052911002188920975, \n",
            "Epoch: 800, Loss: 0.0721375122666359, \n",
            "Epoch: 850, Loss: 0.060870230197906494, \n",
            "Epoch: 900, Loss: 0.00425267219543457, \n",
            "Epoch: 950, Loss: 0.018186330795288086, \n",
            "Epoch: 1000, Loss: 0.02040521241724491, \n",
            "Epoch: 1050, Loss: 0.010068397037684917, \n",
            "Epoch: 1100, Loss: 0.0065735578536987305, \n",
            "Epoch: 1150, Loss: 0.0336172990500927, \n",
            "Epoch: 1200, Loss: 0.027267098426818848, \n",
            "Epoch: 1250, Loss: 0.03995251655578613, \n",
            "Epoch: 1300, Loss: 0.04884690046310425, \n",
            "Epoch: 1350, Loss: 0.02901657484471798, \n",
            "Epoch: 1400, Loss: 0.03901330754160881, \n",
            "Epoch: 1450, Loss: 0.04638868570327759, \n",
            "Epoch: 1500, Loss: 0.04650546982884407, \n",
            "Epoch: 1550, Loss: 0.04854828119277954, \n",
            "Epoch: 1600, Loss: 0.0322599820792675, \n",
            "Epoch: 1650, Loss: 0.027933159843087196, \n",
            "Epoch: 1700, Loss: 0.061554957181215286, \n",
            "Epoch: 1750, Loss: 0.021529674530029297, \n",
            "Epoch: 1800, Loss: 0.04999053478240967, \n",
            "Epoch: 1850, Loss: 0.029242893680930138, \n",
            "Epoch: 1900, Loss: 0.03610972687602043, \n",
            "Epoch: 1950, Loss: 0.011219303123652935, \n",
            "Epoch: 2000, Loss: 0.005973299499601126, \n"
          ],
          "name": "stdout"
        }
      ]
    },
    {
      "cell_type": "code",
      "metadata": {
        "id": "QV0dIdveyCRi"
      },
      "source": [
        ""
      ],
      "execution_count": 488,
      "outputs": []
    }
  ]
}